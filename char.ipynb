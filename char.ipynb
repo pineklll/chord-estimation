{
 "cells": [
  {
   "cell_type": "code",
   "execution_count": 2,
   "metadata": {},
   "outputs": [],
   "source": [
    "import numpy as np\n",
    "import matplotlib.pyplot as plt\n",
    "import librosa\n",
    "import librosa.display\n",
    "import IPython.display as ipd\n",
    "\n",
    "plt.rcParams.update({'font.size': 16, 'axes.grid': True})\n",
    "\n",
    "SR = 22050  # sample rate of audio\n",
    "wide = (18, 3)  # figure size\n",
    "big = (18, 8)  # figure size"
   ]
  },
  {
   "cell_type": "code",
   "execution_count": null,
   "metadata": {},
   "outputs": [],
   "source": [
    "src, sr = librosa.load('data/01_-_Please_Please_Me/The Beatles - A Taste Of Honey (Remastered 2009).flac', sr=SR, mono=True, duration=5.0)"
   ]
  }
 ],
 "metadata": {
  "kernelspec": {
   "display_name": "techEnv",
   "language": "python",
   "name": "python3"
  },
  "language_info": {
   "codemirror_mode": {
    "name": "ipython",
    "version": 3
   },
   "file_extension": ".py",
   "mimetype": "text/x-python",
   "name": "python",
   "nbconvert_exporter": "python",
   "pygments_lexer": "ipython3",
   "version": "3.7.12"
  },
  "orig_nbformat": 4
 },
 "nbformat": 4,
 "nbformat_minor": 2
}

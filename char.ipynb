{
 "cells": [
  {
   "cell_type": "code",
   "execution_count": 1,
   "metadata": {},
   "outputs": [],
   "source": [
    "import os\n",
    "from glob import glob\n",
    "\n",
    "from joblib import Parallel, delayed\n",
    "from tqdm import tqdm_notebook as tqdm\n",
    "import pickle\n",
    "import pandas as pd\n",
    "\n",
    "import pumpp\n",
    "import jams\n",
    "import numpy as np"
   ]
  },
  {
   "cell_type": "code",
   "execution_count": 2,
   "metadata": {},
   "outputs": [],
   "source": [
    "def root(x):\n",
    "    return os.path.splitext(os.path.basename(x))[0]\n",
    "\n",
    "ANNOS = jams.util.find_with_extension('chordlab', 'lab')\n",
    "AUDIO = jams.util.find_with_extension('data', 'flac')\n",
    "\n",
    "# Make sure there are the same number of files\n",
    "assert len(AUDIO) == len(ANNOS)\n",
    "\n",
    "# And that they're in agreement\n",
    "assert all([root(_1) == root(_2) for (_1, _2) in zip(AUDIO, ANNOS)])"
   ]
  },
  {
   "cell_type": "code",
   "execution_count": null,
   "metadata": {},
   "outputs": [],
   "source": [
    "# Build a pump\n",
    "sr = 44100\n",
    "hop_length = 4096\n",
    "\n",
    "p_feature = pumpp.feature.CQTMag(name='cqt', sr=sr, hop_length=hop_length, log=True, conv='tf', n_octaves=6)\n",
    "p_chord_tag = pumpp.task.ChordTagTransformer(name='chord_tag', sr=sr, hop_length=hop_length, sparse=True)\n",
    "p_chord_struct = pumpp.task.ChordTransformer(name='chord_struct', sr=sr, hop_length=hop_length, sparse=True)\n",
    "\n",
    "pump = pumpp.Pump(p_feature, p_chord_tag, p_chord_struct)\n",
    "\n",
    "# Save the pump\n",
    "\n",
    "with open('/home/bmcfee/working/chords/pump.pkl', 'wb') as fd:\n",
    "    pickle.dump(pump, fd)"
   ]
  }
 ],
 "metadata": {
  "kernelspec": {
   "display_name": "techEnv",
   "language": "python",
   "name": "python3"
  },
  "language_info": {
   "codemirror_mode": {
    "name": "ipython",
    "version": 3
   },
   "file_extension": ".py",
   "mimetype": "text/x-python",
   "name": "python",
   "nbconvert_exporter": "python",
   "pygments_lexer": "ipython3",
   "version": "3.7.12"
  },
  "orig_nbformat": 4
 },
 "nbformat": 4,
 "nbformat_minor": 2
}

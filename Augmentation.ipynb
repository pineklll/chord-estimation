{
 "cells": [
  {
   "cell_type": "code",
   "execution_count": 1,
   "metadata": {},
   "outputs": [],
   "source": [
    "import os\n",
    "\n",
    "from joblib import Parallel, delayed\n",
    "from tqdm import tqdm_notebook as tqdm\n",
    "import pickle\n",
    "import pandas as pd\n",
    "\n",
    "import jams\n",
    "import numpy as np\n",
    "\n",
    "import muda"
   ]
  },
  {
   "cell_type": "code",
   "execution_count": 2,
   "metadata": {},
   "outputs": [],
   "source": [
    "def root(x):\n",
    "    return os.path.splitext(os.path.basename(x))[0]\n",
    "\n",
    "ANNOS = jams.util.find_with_extension('chordlab', 'jams')\n",
    "AUDIO = jams.util.find_with_extension('data', 'flac')\n",
    "\n",
    "# Make sure there are the same number of files\n",
    "assert len(AUDIO) == len(ANNOS)\n",
    "\n",
    "# And that they're in agreement\n",
    "assert all([root(_1) == root(_2) for (_1, _2) in zip(AUDIO, ANNOS)])"
   ]
  },
  {
   "cell_type": "code",
   "execution_count": 3,
   "metadata": {},
   "outputs": [],
   "source": [
    "def augment(afile, jfile, deformer, outpath):\n",
    "    \n",
    "    jam = muda.load_jam_audio(jfile, afile)\n",
    "    \n",
    "    base = root(afile)\n",
    "    outfile = os.path.join(outpath, base)\n",
    "    \n",
    "    for i, jam_out in enumerate(deformer.transform(jam)):\n",
    "        muda.save('{}.{}.flac'.format(outfile, i),\n",
    "                  '{}.{}.jams'.format(outfile, i),\n",
    "                 jam_out, strict=False)"
   ]
  },
  {
   "cell_type": "code",
   "execution_count": 4,
   "metadata": {},
   "outputs": [],
   "source": [
    "# Create the augmentation engine for 1-6 half-note\n",
    "pitcher = muda.deformers.PitchShift(n_semitones=[-1, 1, -2, 2, -3, 3, -4, 4, -5, 5, -6, 6])"
   ]
  },
  {
   "cell_type": "code",
   "execution_count": 5,
   "metadata": {},
   "outputs": [],
   "source": [
    "with open('working/chords/muda.pkl', 'wb') as fd:\n",
    "    pickle.dump(pitcher, fd)"
   ]
  },
  {
   "cell_type": "code",
   "execution_count": 6,
   "metadata": {},
   "outputs": [],
   "source": [
    "OUT_DIR = 'chordlab/'"
   ]
  },
  {
   "cell_type": "code",
   "execution_count": 7,
   "metadata": {},
   "outputs": [
    {
     "name": "stderr",
     "output_type": "stream",
     "text": [
      "[Parallel(n_jobs=20)]: Using backend LokyBackend with 20 concurrent workers.\n",
      "[Parallel(n_jobs=20)]: Done   1 tasks      | elapsed:    2.7s\n",
      "[Parallel(n_jobs=20)]: Done   2 tasks      | elapsed:    2.7s\n",
      "[Parallel(n_jobs=20)]: Done   3 tasks      | elapsed:    2.7s\n",
      "[Parallel(n_jobs=20)]: Done   4 tasks      | elapsed:    2.7s\n",
      "[Parallel(n_jobs=20)]: Done   5 tasks      | elapsed:    2.7s\n",
      "[Parallel(n_jobs=20)]: Done   6 tasks      | elapsed:    2.7s\n",
      "[Parallel(n_jobs=20)]: Done   7 tasks      | elapsed:    2.7s\n",
      "[Parallel(n_jobs=20)]: Done   8 tasks      | elapsed:    2.7s\n",
      "[Parallel(n_jobs=20)]: Done   9 tasks      | elapsed:    2.7s\n",
      "[Parallel(n_jobs=20)]: Done  10 tasks      | elapsed:    2.7s\n",
      "[Parallel(n_jobs=20)]: Done  11 tasks      | elapsed:    2.7s\n",
      "[Parallel(n_jobs=20)]: Done  12 tasks      | elapsed:    2.7s\n",
      "[Parallel(n_jobs=20)]: Done  13 tasks      | elapsed:    2.7s\n",
      "[Parallel(n_jobs=20)]: Done  14 tasks      | elapsed:    2.7s\n",
      "[Parallel(n_jobs=20)]: Done  15 tasks      | elapsed:    2.7s\n",
      "[Parallel(n_jobs=20)]: Done  16 tasks      | elapsed:    2.7s\n",
      "[Parallel(n_jobs=20)]: Done  17 tasks      | elapsed:    2.7s\n",
      "[Parallel(n_jobs=20)]: Done  18 tasks      | elapsed:    2.7s\n",
      "[Parallel(n_jobs=20)]: Done  19 tasks      | elapsed:    2.7s\n",
      "[Parallel(n_jobs=20)]: Done  20 tasks      | elapsed:    2.7s\n",
      "[Parallel(n_jobs=20)]: Done  21 tasks      | elapsed:    2.7s\n",
      "[Parallel(n_jobs=20)]: Done  22 tasks      | elapsed:    2.7s\n",
      "[Parallel(n_jobs=20)]: Done  23 tasks      | elapsed:    2.7s\n",
      "[Parallel(n_jobs=20)]: Done  24 tasks      | elapsed:    2.7s\n",
      "[Parallel(n_jobs=20)]: Done  25 tasks      | elapsed:    2.7s\n",
      "[Parallel(n_jobs=20)]: Done  26 tasks      | elapsed:    2.7s\n",
      "[Parallel(n_jobs=20)]: Done  27 tasks      | elapsed:    2.7s\n",
      "[Parallel(n_jobs=20)]: Done  28 tasks      | elapsed:    2.7s\n",
      "[Parallel(n_jobs=20)]: Done  29 tasks      | elapsed:    2.7s\n",
      "[Parallel(n_jobs=20)]: Done  30 tasks      | elapsed:    2.7s\n",
      "[Parallel(n_jobs=20)]: Done  31 tasks      | elapsed:    2.7s\n",
      "[Parallel(n_jobs=20)]: Done  32 tasks      | elapsed:    2.7s\n",
      "[Parallel(n_jobs=20)]: Done  33 tasks      | elapsed:    2.7s\n",
      "[Parallel(n_jobs=20)]: Done  34 tasks      | elapsed:    2.7s\n",
      "[Parallel(n_jobs=20)]: Done  35 tasks      | elapsed:    2.7s\n",
      "[Parallel(n_jobs=20)]: Done  36 tasks      | elapsed:    2.7s\n",
      "[Parallel(n_jobs=20)]: Done  37 tasks      | elapsed:    2.7s\n",
      "[Parallel(n_jobs=20)]: Done  38 tasks      | elapsed:    2.7s\n",
      "[Parallel(n_jobs=20)]: Done  39 tasks      | elapsed:    2.7s\n",
      "[Parallel(n_jobs=20)]: Done  40 tasks      | elapsed:    2.7s\n"
     ]
    },
    {
     "ename": "ParameterError",
     "evalue": "Unknown JAMS extension format: \"lab\"",
     "output_type": "error",
     "traceback": [
      "\u001b[0;31m---------------------------------------------------------------------------\u001b[0m",
      "\u001b[0;31m_RemoteTraceback\u001b[0m                          Traceback (most recent call last)",
      "\u001b[0;31m_RemoteTraceback\u001b[0m: \n\"\"\"\nTraceback (most recent call last):\n  File \"/media/store1/hmf/miniconda3/envs/techEnv/lib/python3.7/site-packages/jams/core.py\", line 142, in _open\n    with open_map[ext](name_or_fdesc, mode=mode) as fdesc:\nKeyError: 'lab'\n\nDuring handling of the above exception, another exception occurred:\n\nTraceback (most recent call last):\n  File \"/media/store1/hmf/miniconda3/envs/techEnv/lib/python3.7/site-packages/joblib/externals/loky/process_executor.py\", line 428, in _process_worker\n    r = call_item()\n  File \"/media/store1/hmf/miniconda3/envs/techEnv/lib/python3.7/site-packages/joblib/externals/loky/process_executor.py\", line 275, in __call__\n    return self.fn(*self.args, **self.kwargs)\n  File \"/media/store1/hmf/miniconda3/envs/techEnv/lib/python3.7/site-packages/joblib/_parallel_backends.py\", line 620, in __call__\n    return self.func(*args, **kwargs)\n  File \"/media/store1/hmf/miniconda3/envs/techEnv/lib/python3.7/site-packages/joblib/parallel.py\", line 289, in __call__\n    for func, args, kwargs in self.items]\n  File \"/media/store1/hmf/miniconda3/envs/techEnv/lib/python3.7/site-packages/joblib/parallel.py\", line 289, in <listcomp>\n    for func, args, kwargs in self.items]\n  File \"<ipython-input-3-d31d408d7031>\", line 3, in augment\n  File \"/media/store1/hmf/miniconda3/envs/techEnv/lib/python3.7/site-packages/muda/core.py\", line 133, in load_jam_audio\n    jam = jams.load(jam_in, validate=validate, strict=strict, fmt=fmt)\n  File \"/media/store1/hmf/miniconda3/envs/techEnv/lib/python3.7/site-packages/jams/core.py\", line 212, in load\n    with _open(path_or_file, mode='r', fmt=fmt) as fdesc:\n  File \"/media/store1/hmf/miniconda3/envs/techEnv/lib/python3.7/contextlib.py\", line 112, in __enter__\n    return next(self.gen)\n  File \"/media/store1/hmf/miniconda3/envs/techEnv/lib/python3.7/site-packages/jams/core.py\", line 147, in _open\n    'format: \"{:s}\"'.format(ext))\njams.exceptions.ParameterError: Unknown JAMS extension format: \"lab\"\n\"\"\"",
      "\nThe above exception was the direct cause of the following exception:\n",
      "\u001b[0;31mParameterError\u001b[0m                            Traceback (most recent call last)",
      "\u001b[0;32m<ipython-input-7-7426deaf0400>\u001b[0m in \u001b[0;36m<module>\u001b[0;34m\u001b[0m\n\u001b[0;32m----> 1\u001b[0;31m \u001b[0mParallel\u001b[0m\u001b[0;34m(\u001b[0m\u001b[0mn_jobs\u001b[0m\u001b[0;34m=\u001b[0m\u001b[0;36m20\u001b[0m\u001b[0;34m,\u001b[0m \u001b[0mverbose\u001b[0m\u001b[0;34m=\u001b[0m\u001b[0;36m10\u001b[0m\u001b[0;34m)\u001b[0m\u001b[0;34m(\u001b[0m\u001b[0mdelayed\u001b[0m\u001b[0;34m(\u001b[0m\u001b[0maugment\u001b[0m\u001b[0;34m)\u001b[0m\u001b[0;34m(\u001b[0m\u001b[0maud\u001b[0m\u001b[0;34m,\u001b[0m \u001b[0mjam\u001b[0m\u001b[0;34m,\u001b[0m \u001b[0mpitcher\u001b[0m\u001b[0;34m,\u001b[0m \u001b[0mOUT_DIR\u001b[0m\u001b[0;34m)\u001b[0m \u001b[0;32mfor\u001b[0m \u001b[0;34m(\u001b[0m\u001b[0maud\u001b[0m\u001b[0;34m,\u001b[0m \u001b[0mjam\u001b[0m\u001b[0;34m)\u001b[0m \u001b[0;32min\u001b[0m \u001b[0mzip\u001b[0m\u001b[0;34m(\u001b[0m\u001b[0mAUDIO\u001b[0m\u001b[0;34m,\u001b[0m \u001b[0mANNOS\u001b[0m\u001b[0;34m)\u001b[0m\u001b[0;34m)\u001b[0m\u001b[0;34m;\u001b[0m\u001b[0;34m\u001b[0m\u001b[0;34m\u001b[0m\u001b[0m\n\u001b[0m",
      "\u001b[0;32m~/miniconda3/envs/techEnv/lib/python3.7/site-packages/joblib/parallel.py\u001b[0m in \u001b[0;36m__call__\u001b[0;34m(self, iterable)\u001b[0m\n\u001b[1;32m   1096\u001b[0m \u001b[0;34m\u001b[0m\u001b[0m\n\u001b[1;32m   1097\u001b[0m             \u001b[0;32mwith\u001b[0m \u001b[0mself\u001b[0m\u001b[0;34m.\u001b[0m\u001b[0m_backend\u001b[0m\u001b[0;34m.\u001b[0m\u001b[0mretrieval_context\u001b[0m\u001b[0;34m(\u001b[0m\u001b[0;34m)\u001b[0m\u001b[0;34m:\u001b[0m\u001b[0;34m\u001b[0m\u001b[0;34m\u001b[0m\u001b[0m\n\u001b[0;32m-> 1098\u001b[0;31m                 \u001b[0mself\u001b[0m\u001b[0;34m.\u001b[0m\u001b[0mretrieve\u001b[0m\u001b[0;34m(\u001b[0m\u001b[0;34m)\u001b[0m\u001b[0;34m\u001b[0m\u001b[0;34m\u001b[0m\u001b[0m\n\u001b[0m\u001b[1;32m   1099\u001b[0m             \u001b[0;31m# Make sure that we get a last message telling us we are done\u001b[0m\u001b[0;34m\u001b[0m\u001b[0;34m\u001b[0m\u001b[0;34m\u001b[0m\u001b[0m\n\u001b[1;32m   1100\u001b[0m             \u001b[0melapsed_time\u001b[0m \u001b[0;34m=\u001b[0m \u001b[0mtime\u001b[0m\u001b[0;34m.\u001b[0m\u001b[0mtime\u001b[0m\u001b[0;34m(\u001b[0m\u001b[0;34m)\u001b[0m \u001b[0;34m-\u001b[0m \u001b[0mself\u001b[0m\u001b[0;34m.\u001b[0m\u001b[0m_start_time\u001b[0m\u001b[0;34m\u001b[0m\u001b[0;34m\u001b[0m\u001b[0m\n",
      "\u001b[0;32m~/miniconda3/envs/techEnv/lib/python3.7/site-packages/joblib/parallel.py\u001b[0m in \u001b[0;36mretrieve\u001b[0;34m(self)\u001b[0m\n\u001b[1;32m    973\u001b[0m             \u001b[0;32mtry\u001b[0m\u001b[0;34m:\u001b[0m\u001b[0;34m\u001b[0m\u001b[0;34m\u001b[0m\u001b[0m\n\u001b[1;32m    974\u001b[0m                 \u001b[0;32mif\u001b[0m \u001b[0mgetattr\u001b[0m\u001b[0;34m(\u001b[0m\u001b[0mself\u001b[0m\u001b[0;34m.\u001b[0m\u001b[0m_backend\u001b[0m\u001b[0;34m,\u001b[0m \u001b[0;34m'supports_timeout'\u001b[0m\u001b[0;34m,\u001b[0m \u001b[0;32mFalse\u001b[0m\u001b[0;34m)\u001b[0m\u001b[0;34m:\u001b[0m\u001b[0;34m\u001b[0m\u001b[0;34m\u001b[0m\u001b[0m\n\u001b[0;32m--> 975\u001b[0;31m                     \u001b[0mself\u001b[0m\u001b[0;34m.\u001b[0m\u001b[0m_output\u001b[0m\u001b[0;34m.\u001b[0m\u001b[0mextend\u001b[0m\u001b[0;34m(\u001b[0m\u001b[0mjob\u001b[0m\u001b[0;34m.\u001b[0m\u001b[0mget\u001b[0m\u001b[0;34m(\u001b[0m\u001b[0mtimeout\u001b[0m\u001b[0;34m=\u001b[0m\u001b[0mself\u001b[0m\u001b[0;34m.\u001b[0m\u001b[0mtimeout\u001b[0m\u001b[0;34m)\u001b[0m\u001b[0;34m)\u001b[0m\u001b[0;34m\u001b[0m\u001b[0;34m\u001b[0m\u001b[0m\n\u001b[0m\u001b[1;32m    976\u001b[0m                 \u001b[0;32melse\u001b[0m\u001b[0;34m:\u001b[0m\u001b[0;34m\u001b[0m\u001b[0;34m\u001b[0m\u001b[0m\n\u001b[1;32m    977\u001b[0m                     \u001b[0mself\u001b[0m\u001b[0;34m.\u001b[0m\u001b[0m_output\u001b[0m\u001b[0;34m.\u001b[0m\u001b[0mextend\u001b[0m\u001b[0;34m(\u001b[0m\u001b[0mjob\u001b[0m\u001b[0;34m.\u001b[0m\u001b[0mget\u001b[0m\u001b[0;34m(\u001b[0m\u001b[0;34m)\u001b[0m\u001b[0;34m)\u001b[0m\u001b[0;34m\u001b[0m\u001b[0;34m\u001b[0m\u001b[0m\n",
      "\u001b[0;32m~/miniconda3/envs/techEnv/lib/python3.7/site-packages/joblib/_parallel_backends.py\u001b[0m in \u001b[0;36mwrap_future_result\u001b[0;34m(future, timeout)\u001b[0m\n\u001b[1;32m    565\u001b[0m         AsyncResults.get from multiprocessing.\"\"\"\n\u001b[1;32m    566\u001b[0m         \u001b[0;32mtry\u001b[0m\u001b[0;34m:\u001b[0m\u001b[0;34m\u001b[0m\u001b[0;34m\u001b[0m\u001b[0m\n\u001b[0;32m--> 567\u001b[0;31m             \u001b[0;32mreturn\u001b[0m \u001b[0mfuture\u001b[0m\u001b[0;34m.\u001b[0m\u001b[0mresult\u001b[0m\u001b[0;34m(\u001b[0m\u001b[0mtimeout\u001b[0m\u001b[0;34m=\u001b[0m\u001b[0mtimeout\u001b[0m\u001b[0;34m)\u001b[0m\u001b[0;34m\u001b[0m\u001b[0;34m\u001b[0m\u001b[0m\n\u001b[0m\u001b[1;32m    568\u001b[0m         \u001b[0;32mexcept\u001b[0m \u001b[0mCfTimeoutError\u001b[0m \u001b[0;32mas\u001b[0m \u001b[0me\u001b[0m\u001b[0;34m:\u001b[0m\u001b[0;34m\u001b[0m\u001b[0;34m\u001b[0m\u001b[0m\n\u001b[1;32m    569\u001b[0m             \u001b[0;32mraise\u001b[0m \u001b[0mTimeoutError\u001b[0m \u001b[0;32mfrom\u001b[0m \u001b[0me\u001b[0m\u001b[0;34m\u001b[0m\u001b[0;34m\u001b[0m\u001b[0m\n",
      "\u001b[0;32m~/miniconda3/envs/techEnv/lib/python3.7/concurrent/futures/_base.py\u001b[0m in \u001b[0;36mresult\u001b[0;34m(self, timeout)\u001b[0m\n\u001b[1;32m    433\u001b[0m                 \u001b[0;32mraise\u001b[0m \u001b[0mCancelledError\u001b[0m\u001b[0;34m(\u001b[0m\u001b[0;34m)\u001b[0m\u001b[0;34m\u001b[0m\u001b[0;34m\u001b[0m\u001b[0m\n\u001b[1;32m    434\u001b[0m             \u001b[0;32melif\u001b[0m \u001b[0mself\u001b[0m\u001b[0;34m.\u001b[0m\u001b[0m_state\u001b[0m \u001b[0;34m==\u001b[0m \u001b[0mFINISHED\u001b[0m\u001b[0;34m:\u001b[0m\u001b[0;34m\u001b[0m\u001b[0;34m\u001b[0m\u001b[0m\n\u001b[0;32m--> 435\u001b[0;31m                 \u001b[0;32mreturn\u001b[0m \u001b[0mself\u001b[0m\u001b[0;34m.\u001b[0m\u001b[0m__get_result\u001b[0m\u001b[0;34m(\u001b[0m\u001b[0;34m)\u001b[0m\u001b[0;34m\u001b[0m\u001b[0;34m\u001b[0m\u001b[0m\n\u001b[0m\u001b[1;32m    436\u001b[0m             \u001b[0;32melse\u001b[0m\u001b[0;34m:\u001b[0m\u001b[0;34m\u001b[0m\u001b[0;34m\u001b[0m\u001b[0m\n\u001b[1;32m    437\u001b[0m                 \u001b[0;32mraise\u001b[0m \u001b[0mTimeoutError\u001b[0m\u001b[0;34m(\u001b[0m\u001b[0;34m)\u001b[0m\u001b[0;34m\u001b[0m\u001b[0;34m\u001b[0m\u001b[0m\n",
      "\u001b[0;32m~/miniconda3/envs/techEnv/lib/python3.7/concurrent/futures/_base.py\u001b[0m in \u001b[0;36m__get_result\u001b[0;34m(self)\u001b[0m\n\u001b[1;32m    382\u001b[0m     \u001b[0;32mdef\u001b[0m \u001b[0m__get_result\u001b[0m\u001b[0;34m(\u001b[0m\u001b[0mself\u001b[0m\u001b[0;34m)\u001b[0m\u001b[0;34m:\u001b[0m\u001b[0;34m\u001b[0m\u001b[0;34m\u001b[0m\u001b[0m\n\u001b[1;32m    383\u001b[0m         \u001b[0;32mif\u001b[0m \u001b[0mself\u001b[0m\u001b[0;34m.\u001b[0m\u001b[0m_exception\u001b[0m\u001b[0;34m:\u001b[0m\u001b[0;34m\u001b[0m\u001b[0;34m\u001b[0m\u001b[0m\n\u001b[0;32m--> 384\u001b[0;31m             \u001b[0;32mraise\u001b[0m \u001b[0mself\u001b[0m\u001b[0;34m.\u001b[0m\u001b[0m_exception\u001b[0m\u001b[0;34m\u001b[0m\u001b[0;34m\u001b[0m\u001b[0m\n\u001b[0m\u001b[1;32m    385\u001b[0m         \u001b[0;32melse\u001b[0m\u001b[0;34m:\u001b[0m\u001b[0;34m\u001b[0m\u001b[0;34m\u001b[0m\u001b[0m\n\u001b[1;32m    386\u001b[0m             \u001b[0;32mreturn\u001b[0m \u001b[0mself\u001b[0m\u001b[0;34m.\u001b[0m\u001b[0m_result\u001b[0m\u001b[0;34m\u001b[0m\u001b[0;34m\u001b[0m\u001b[0m\n",
      "\u001b[0;31mParameterError\u001b[0m: Unknown JAMS extension format: \"lab\""
     ]
    }
   ],
   "source": [
    "Parallel(n_jobs=20, verbose=10)(delayed(augment)(aud, jam, pitcher, OUT_DIR) for (aud, jam) in zip(AUDIO, ANNOS));"
   ]
  },
  {
   "cell_type": "code",
   "execution_count": null,
   "metadata": {},
   "outputs": [],
   "source": [
    "# # Build a pump\n",
    "# sr = 44100\n",
    "# hop_length = 4096\n",
    "\n",
    "# p_feature = pumpp.feature.CQTMag(name='cqt', sr=sr, hop_length=hop_length, log=True, conv='tf', n_octaves=6)\n",
    "# p_chord_tag = pumpp.task.ChordTagTransformer(name='chord_tag', sr=sr, hop_length=hop_length, sparse=True)\n",
    "# p_chord_struct = pumpp.task.ChordTransformer(name='chord_struct', sr=sr, hop_length=hop_length, sparse=True)\n",
    "\n",
    "# pump = pumpp.Pump(p_feature, p_chord_tag, p_chord_struct)\n",
    "\n",
    "# # Save the pump\n",
    "\n",
    "# with open('/home/bmcfee/working/chords/pump.pkl', 'wb') as fd:\n",
    "#     pickle.dump(pump, fd)"
   ]
  }
 ],
 "metadata": {
  "kernelspec": {
   "display_name": "techEnv",
   "language": "python",
   "name": "python3"
  },
  "language_info": {
   "codemirror_mode": {
    "name": "ipython",
    "version": 3
   },
   "file_extension": ".py",
   "mimetype": "text/x-python",
   "name": "python",
   "nbconvert_exporter": "python",
   "pygments_lexer": "ipython3",
   "version": "3.7.12"
  },
  "orig_nbformat": 4
 },
 "nbformat": 4,
 "nbformat_minor": 2
}
